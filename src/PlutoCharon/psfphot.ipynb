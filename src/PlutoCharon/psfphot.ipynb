{
 "cells": [
  {
   "cell_type": "code",
   "execution_count": 1,
   "metadata": {},
   "outputs": [],
   "source": [
    "%load_ext autoreload\n",
    "%autoreload 2\n",
    "import sys\n",
    "import logging\n",
    "from pathlib import Path\n",
    "import configparser\n",
    "\n",
    "from lmfit import fit_report\n",
    "from astropy.table import Table\n",
    "import numpy as np\n",
    "import matplotlib.pyplot as plt\n",
    "\n",
    "from gaussian_model import SingleGaussian, DoubleGaussian\n",
    "from image import Image\n",
    "from res import config\n",
    "\n",
    "constants = configparser.ConfigParser()\n",
    "constants.read('res/constants.ini')\n",
    "\n",
    "log = logging.getLogger('psfphot')\n",
    "logging.basicConfig(stream=sys.stdout, level=logging.DEBUG)\n",
    "logging.getLogger('parso.python.diff').disabled = True # turn off IPython debugging\n",
    "logging.getLogger('matplotlib').setLevel(logging.WARNING)\n"
   ]
  },
  {
   "cell_type": "markdown",
   "metadata": {},
   "source": [
    "Analyze star nearby Pluto and Charon to estimate $\\sigma_x$, $\\sigma_y$, and $\\theta$"
   ]
  },
  {
   "cell_type": "code",
   "execution_count": null,
   "metadata": {},
   "outputs": [],
   "source": [
    "dim = 60\n",
    "for index in config.indices:\n",
    "    log.info(index)\n",
    "    path = f'{config.data_folder}/{config.date}/pluto{index}.fits'\n",
    "    entry = constants[f'{config.date}{index}']\n",
    "    image = Image(path).subimage(entry['ref_star_x'], entry['ref_star_y'], dim, dim)\n",
    "    image.write_fits(f'res/images/refstar{index}.fits')\n",
    "    psfinit = {}\n",
    "    psfinit['a'] = 500\n",
    "    psfinit['bg'] = 500\n",
    "    psfinit['xc'] =  dim/2\n",
    "    psfinit['yc'] = dim/2\n",
    "    psfinit['theta'] = 0\n",
    "    psfinit['sigma_x'] = 5\n",
    "    psfinit['sigma_y'] = 5\n",
    "\n",
    "    psf = SingleGaussian(psfinit, image)\n",
    "    psf.set_vary(['a', 'bg', 'xc', 'yc', 'theta', 'sigma_x', 'sigma_y'])\n",
    "    psf.set_limits('a', 100, 5000)\n",
    "    psf.set_limits('bg', 100, 1500)\n",
    "    psf.set_limits('xc', 0, dim)\n",
    "    psf.set_limits('yc', 0, dim)\n",
    "    psf.set_limits('sigma_x', 0, 50)\n",
    "    psf.set_limits('sigma_y', 0, 50)\n",
    "    params = psf.run_minimizer()\n",
    "    log.info(psf.get_result())\n",
    "    log.info(fit_report(params, show_correl=False))\n",
    "\n",
    "    entry['sigma_x'] = str(params['sigma_x'].value)\n",
    "    entry['sigma_y'] = str(params['sigma_y'].value)\n",
    "    entry['theta'] = str(params['theta'].value*180/np.pi % 360)\n",
    "    constants.write(Path('res/constants.ini').open('w'))\n",
    "    \n"
   ]
  },
  {
   "cell_type": "markdown",
   "metadata": {},
   "source": [
    "Use above values to fit Pluto and Charon psf"
   ]
  },
  {
   "cell_type": "code",
   "execution_count": null,
   "metadata": {},
   "outputs": [],
   "source": [
    "dim = 60\n",
    "for index in config.indices:\n",
    "    log.info(index)\n",
    "    path = f'{config.data_folder}/{config.date}/pluto{index}.fits'\n",
    "    entry = constants[f'{config.date}{index}']\n",
    "    image = Image(path).subimage(entry['pluto_charon_x'], entry['pluto_charon_y'], dim, dim)\n",
    "    image.write_fits(f'res/subimages/pluto_charon{index}.fits')\n",
    "    psfinit = {}\n",
    "    psfinit['a_p'] = 250\n",
    "    psfinit['rel_flux'] = 0.18501\n",
    "    psfinit['bg'] = 500\n",
    "    psfinit['x_p'] =  dim/2\n",
    "    psfinit['y_p'] = dim/2\n",
    "    psfinit['dx'] = 3\n",
    "    psfinit['dy'] = 0\n",
    "    psfinit['theta'] = float(entry['theta']) * np.pi/180\n",
    "    psfinit['sigma_x'] = float(entry['sigma_x'])\n",
    "    psfinit['sigma_y'] = float(entry['sigma_y'])\n",
    "\n",
    "    psf = DoubleGaussian(psfinit, image)\n",
    "    psf.set_vary(['a_p', 'bg', 'x_p', 'y_p', 'dx', 'dy'])\n",
    "    psf.set_limits('a_p', 100, 5000)\n",
    "    psf.set_limits('bg', 100, 1500)\n",
    "    psf.set_limits('x_p', 0, dim)\n",
    "    psf.set_limits('y_p', 0, dim)\n",
    "    psf.set_limits('dx', -8.5, 8.5)\n",
    "    psf.set_limits('dy', -8.5, 8.5)\n",
    "    params = psf.run_minimizer()\n",
    "    log.info(psf.get_result())\n",
    "    log.info(fit_report(params, show_correl=False))\n",
    "\n",
    "    entry['dx'] = str(params['dx'].value)\n",
    "    entry['dy'] = str(params['dy'].value)\n",
    "    constants.write(Path('res/constants.ini').open('w'))\n",
    "    \n"
   ]
  },
  {
   "cell_type": "markdown",
   "metadata": {},
   "source": [
    "Plot pluto and charon results"
   ]
  },
  {
   "cell_type": "code",
   "execution_count": 4,
   "metadata": {},
   "outputs": [
    {
     "data": {
      "image/png": "[encoded data removed]",
      "text/plain": [
       "<Figure size 432x288 with 1 Axes>"
      ]
     },
     "metadata": {
      "needs_background": "light"
     },
     "output_type": "display_data"
    }
   ],
   "source": [
    "dx = [float(constants[f'{config.date}{index}']['dx']) for index in config.indices]\n",
    "dy = [float(constants[f'{config.date}{index}']['dy']) for index in config.indices]\n",
    "%matplotlib inline\n",
    "plt.figure()\n",
    "plt.title('Charon relative to Pluto (0,0)')\n",
    "plt.xlim((-7,7))\n",
    "plt.ylim((-1,1))\n",
    "plt.scatter(dx, dy)\n",
    "plt.show()"
   ]
  },
  {
   "cell_type": "code",
   "execution_count": null,
   "metadata": {},
   "outputs": [],
   "source": []
  }
 ],
 "metadata": {
  "kernelspec": {
   "display_name": "Python 3.10.5 64-bit",
   "language": "python",
   "name": "python3"
  },
  "language_info": {
   "codemirror_mode": {
    "name": "ipython",
    "version": 3
   },
   "file_extension": ".py",
   "mimetype": "text/x-python",
   "name": "python",
   "nbconvert_exporter": "python",
   "pygments_lexer": "ipython3",
   "version": "3.10.5"
  },
  "orig_nbformat": 4,
  "vscode": {
   "interpreter": {
    "hash": "aee8b7b246df8f9039afb4144a1f6fd8d2ca17a180786b69acc140d282b71a49"
   }
  }
 },
 "nbformat": 4,
 "nbformat_minor": 2
}
